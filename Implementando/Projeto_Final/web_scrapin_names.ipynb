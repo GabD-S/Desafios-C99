{
 "cells": [
  {
   "cell_type": "code",
   "execution_count": 10,
   "metadata": {},
   "outputs": [],
   "source": [
    "from bs4 import BeautifulSoup\n",
    "import requests\n",
    "import pandas as pd\n",
    "from datetime import datetime\n",
    "import numpy as np\n",
    "import tabulate\n",
    "import random\n",
    "import sys"
   ]
  },
  {
   "cell_type": "code",
   "execution_count": 11,
   "metadata": {},
   "outputs": [],
   "source": [
    "URL = 'https://www.mercadolivre.com.br/supermercado/market/ofertas#client=HOME&component_id=featured_corridors'\n",
    "response = requests.get(URL)\n",
    "doc = BeautifulSoup(response.text,'html.parser')\n",
    "existe = []\n",
    "\n",
    "if response.status_code == 200:\n",
    "    print('O SITE ESTA CONECTANDO CORRETAMENTE')\n",
    "else:\n",
    "    print('kkkk deu ruim')"
   ]
  },
  {
   "cell_type": "code",
   "execution_count": 12,
   "metadata": {},
   "outputs": [],
   "source": [
    "def get_elements(doc):\n",
    "    title_tags = doc.find_all('h3', class_='ui-eshop-item__title')\n",
    "    titles = []\n",
    "    for tag in title_tags:\n",
    "        first_word = tag.text.split()[0] \n",
    "        titles.append(first_word)\n",
    "    return titles\n"
   ]
  },
  {
   "cell_type": "code",
   "execution_count": 13,
   "metadata": {},
   "outputs": [],
   "source": [
    "def get_prices(doc):\n",
    "    prices_tags = doc.find_all('span', class_='andes-money-amount andes-money-amount--cents-superscript')\n",
    "    price = []\n",
    "    for tags in prices_tags:\n",
    "        clean_price = tags.text.replace('Â', '').replace(',', '.').replace('R$', '')\n",
    "        price.append(clean_price)\n",
    "    return price\n"
   ]
  },
  {
   "cell_type": "code",
   "execution_count": 14,
   "metadata": {},
   "outputs": [],
   "source": [
    "print(get_prices(doc))"
   ]
  },
  {
   "cell_type": "code",
   "execution_count": 15,
   "metadata": {},
   "outputs": [],
   "source": [
    "def func_compra(title,price):\n",
    "    res = ''\n",
    "    index = random.randint(0, len(title) - 1)  \n",
    "    qntd = random.randint(0, 15)\n",
    "    print('C')\n",
    "    print(f\"{title[index]} {price[index]} {qntd}\")\n",
    "    existe.append(title)  \n"
   ]
  },
  {
   "cell_type": "code",
   "execution_count": 16,
   "metadata": {},
   "outputs": [],
   "source": [
    "def func_remove(title):\n",
    "        decide = random.randint(1, 2)\n",
    "        if existe:\n",
    "            index = random.randint(0, len(existe) - 1)\n",
    "            if decide == 2:\n",
    "                print('R')\n",
    "                print(f\"{title[index]}\")\n",
    "            else:\n",
    "                tamanho = random.randint(1, 20)\n",
    "                index = random.randint(0, len(title) - 1)  \n",
    "\n",
    "                print('R')\n",
    "                print(f\"{title[index]} {tamanho}\")\n",
    "        else:\n",
    "            print('R')\n",
    "            print(\"sdasdasd 10\")"
   ]
  },
  {
   "cell_type": "code",
   "execution_count": 17,
   "metadata": {},
   "outputs": [],
   "source": [
    "def func_atualiza(title,price):\n",
    "       if existe:\n",
    "           aleatorio = random.randint(0, len(existe) - 1)\n",
    "           index = random.randint(0, len(title) - 1)  \n",
    "           print('A')\n",
    "           print(f\"{title[index]} {price[index]}\")\n",
    "       else:\n",
    "           print(\"dkasmdkamsdk 50\")"
   ]
  },
  {
   "cell_type": "code",
   "execution_count": 18,
   "metadata": {},
   "outputs": [],
   "source": [
    "price = get_prices(doc)\n",
    "title = get_elements(doc)\n",
    "tamanho, orcamento = 183, 600\n",
    "arquivo = open('entrada4.txt', 'w')\n",
    "sys.stdout = arquivo\n",
    "\n",
    "with open('entrada4.txt', 'w') as arquivo:\n",
    "    sys.stdout = arquivo\n",
    "\n",
    "    print(f\"{tamanho} {orcamento}\")\n",
    "\n",
    "    for i in range(tamanho):\n",
    "        sortei = random.randint(1, 30)\n",
    "        if 1 <= sortei <= 14:\n",
    "            func_compra(title,price)\n",
    "        elif 15 <= sortei <= 18:\n",
    "            func_remove(title)\n",
    "        elif 19 <= sortei <= 20:\n",
    "            func_atualiza(title,price)\n",
    "        elif 21 <= sortei < 30:\n",
    "            print('M')\n",
    "        else:\n",
    "            print('O')\n",
    "            #Quero que no caso do resultado ser 30 ele mostre esse erro pra mostrar a funcionalidade de digitacao incorreta\n",
    "\n",
    "    sys.stdout = sys.__stdout__\n",
    "\n",
    "print(\"TUDO CORREU BEM\")\n"
   ]
  }
 ],
 "metadata": {
  "kernelspec": {
   "display_name": "Python 3",
   "language": "python",
   "name": "python3"
  },
  "language_info": {
   "codemirror_mode": {
    "name": "ipython",
    "version": 3
   },
   "file_extension": ".py",
   "mimetype": "text/x-python",
   "name": "python",
   "nbconvert_exporter": "python",
   "pygments_lexer": "ipython3",
   "version": "3.12.3"
  }
 },
 "nbformat": 4,
 "nbformat_minor": 2
}
